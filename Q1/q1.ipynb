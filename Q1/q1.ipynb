{
 "cells": [
  {
   "cell_type": "code",
   "execution_count": 19,
   "id": "b4fef9c0",
   "metadata": {},
   "outputs": [
    {
     "name": "stdout",
     "output_type": "stream",
     "text": [
      "***Annual Temperature Report for Seoul in 2022***\n",
      "\n",
      "Average Temperature: 13.30 Celsicus\n",
      "\n",
      "Average Minimum Temperature: 9.21 Celsicus\n",
      "\n",
      "Average Maximum Temperature: 18.08 Celsicus\n",
      "\n"
     ]
    }
   ],
   "source": [
    "import csv\n",
    "def main():\n",
    "    f = open('q1.csv')\n",
    "    data = csv.reader(f)\n",
    "    header = next(data)\n",
    "    avg = 0\n",
    "    avglow = 0\n",
    "    avghigh = 0\n",
    "    num = 0\n",
    "    numlow = 0\n",
    "    numhigh = 0\n",
    "    for row in data :\n",
    "        avg += float(row[2])\n",
    "        num += 1\n",
    "        if row[3] != '':\n",
    "            avglow += float(row[3])\n",
    "            numlow += 1\n",
    "    \n",
    "        if row[4] != '':\n",
    "            avghigh += float(row[4])\n",
    "            numhigh += 1\n",
    "    avg = avg/num\n",
    "    avglow = avglow/numlow\n",
    "    avghigh = avghigh/numhigh\n",
    "\n",
    "    print(\"***Annual Temperature Report for Seoul in 2022***\\n\")\n",
    "    print(\"Average Temperature: {0:.2f} Celsicus\\n\".format(avg))\n",
    "    print(\"Average Minimum Temperature: {0:.2f} Celsicus\\n\".format(avglow))\n",
    "    print(\"Average Maximum Temperature: {0:.2f} Celsicus\\n\".format(avghigh))\n",
    "    f.close()\n",
    "\n",
    "\n",
    "if __name__ == '__main__':\n",
    "    main()\n",
    "\n",
    "\n"
   ]
  },
  {
   "cell_type": "code",
   "execution_count": null,
   "id": "7d45c084",
   "metadata": {},
   "outputs": [],
   "source": []
  }
 ],
 "metadata": {
  "kernelspec": {
   "display_name": "Python 3 (ipykernel)",
   "language": "python",
   "name": "python3"
  },
  "language_info": {
   "codemirror_mode": {
    "name": "ipython",
    "version": 3
   },
   "file_extension": ".py",
   "mimetype": "text/x-python",
   "name": "python",
   "nbconvert_exporter": "python",
   "pygments_lexer": "ipython3",
   "version": "3.9.13"
  }
 },
 "nbformat": 4,
 "nbformat_minor": 5
}
